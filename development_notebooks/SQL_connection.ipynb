{
 "cells": [
  {
   "cell_type": "code",
   "execution_count": null,
   "metadata": {},
   "outputs": [],
   "source": [
    "# Connect to the PlanetScale database\n",
    "\n",
    "from sqlalchemy import create_engine, MetaData\n",
    "\n",
    "def load_db_credentials(filepath='db_credentials'):\n",
    "    creds = {}\n",
    "    with open(filepath, 'r') as f:\n",
    "        for line in f:\n",
    "            key, val = line.strip().split('=', 1)\n",
    "            creds[key] = val\n",
    "    return creds\n",
    "\n",
    "creds = load_db_credentials()\n",
    "\n",
    "username = creds['username']\n",
    "password = creds['password']\n",
    "host = creds['host']\n",
    "database = creds['database']\n",
    "port = int(creds['port'])\n",
    "\n",
    "# SQLAlchemy connection string (MySQL connector)\n",
    "connection_string = f'mysql+mysqlconnector://{username}:{password}@{host}:{port}/{database}'\n",
    "\n",
    "# Create the engine\n",
    "engine = create_engine(connection_string)"
   ]
  },
  {
   "cell_type": "code",
   "execution_count": null,
   "metadata": {},
   "outputs": [],
   "source": [
    "# Reflect database schema\n",
    "meta = MetaData()\n",
    "meta.reflect(bind=engine)\n",
    "\n",
    "# Drop all tables\n",
    "meta.drop_all(bind=engine)\n",
    "print(\"All tables dropped!\")"
   ]
  },
  {
   "cell_type": "markdown",
   "metadata": {},
   "source": [
    "***table: category***"
   ]
  },
  {
   "cell_type": "code",
   "execution_count": null,
   "metadata": {},
   "outputs": [],
   "source": [
    "import pandas as pd\n",
    "\n",
    "from sqlalchemy import text\n",
    "\n",
    "# Load your CSV\n",
    "df = pd.read_csv('table_category.csv')\n",
    "\n",
    "# Optional: preprocess or adjust column names if needed\n",
    "# df.columns = [col.lower() for col in df.columns]  # standardize column names\n",
    "\n",
    "# Push to SQL table (replace 'your_table' with the desired table name)\n",
    "df.to_sql('category', con=engine, if_exists='replace', index=False)\n",
    "\n",
    "with engine.connect() as con:\n",
    "    con.execute(text('ALTER TABLE `category` ADD PRIMARY KEY (`category_id`);'))"
   ]
  },
  {
   "cell_type": "markdown",
   "metadata": {},
   "source": [
    "**table: genre**"
   ]
  },
  {
   "cell_type": "code",
   "execution_count": null,
   "metadata": {},
   "outputs": [],
   "source": [
    "# Load your CSV\n",
    "df = pd.read_csv('table_genre.csv')\n",
    "\n",
    "# Optional: preprocess or adjust column names if needed\n",
    "# df.columns = [col.lower() for col in df.columns]  # standardize column names\n",
    "\n",
    "# Push to SQL table (replace 'your_table' with the desired table name)\n",
    "df.to_sql('genre', con=engine, if_exists='replace', index=False)\n",
    "\n",
    "with engine.connect() as con:\n",
    "    con.execute(text('ALTER TABLE `genre` ADD PRIMARY KEY (`genre_id`);'))"
   ]
  },
  {
   "cell_type": "markdown",
   "metadata": {},
   "source": [
    "**table: publisher**"
   ]
  },
  {
   "cell_type": "code",
   "execution_count": null,
   "metadata": {},
   "outputs": [],
   "source": [
    "# Load your CSV\n",
    "df = pd.read_csv('table_publisher.csv')\n",
    "\n",
    "# Optional: preprocess or adjust column names if needed\n",
    "# df.columns = [col.lower() for col in df.columns]  # standardize column names\n",
    "\n",
    "# Push to SQL table (replace 'your_table' with the desired table name)\n",
    "df.to_sql('publisher', con=engine, if_exists='replace', index=False)\n",
    "\n",
    "with engine.connect() as con:\n",
    "    con.execute(text('ALTER TABLE `publisher` ADD PRIMARY KEY (`publisher_id`);'))"
   ]
  },
  {
   "cell_type": "markdown",
   "metadata": {},
   "source": [
    "**table: developer**"
   ]
  },
  {
   "cell_type": "code",
   "execution_count": null,
   "metadata": {},
   "outputs": [],
   "source": [
    "# Load your CSV\n",
    "df = pd.read_csv('table_developer.csv')\n",
    "\n",
    "# Optional: preprocess or adjust column names if needed\n",
    "# df.columns = [col.lower() for col in df.columns]  # standardize column names\n",
    "\n",
    "# Push to SQL table (replace 'your_table' with the desired table name)\n",
    "df.to_sql('developer', con=engine, if_exists='replace', index=False)\n",
    "\n",
    "with engine.connect() as con:\n",
    "    con.execute(text('ALTER TABLE `developer` ADD PRIMARY KEY (`developer_id`);'))"
   ]
  },
  {
   "cell_type": "markdown",
   "metadata": {},
   "source": [
    "**table: game**"
   ]
  },
  {
   "cell_type": "code",
   "execution_count": null,
   "metadata": {},
   "outputs": [],
   "source": [
    "# Load your CSV\n",
    "df = pd.read_csv('table_game.csv')\n",
    "\n",
    "df['release_dates'] = pd.to_datetime(df['release_dates'], errors='coerce', format='%Y-%m-%d %H:%M:%S', utc=True).dt.date\n",
    "\n",
    "# Optional: preprocess or adjust column names if needed\n",
    "# df.columns = [col.lower() for col in df.columns]  # standardize column names\n",
    "\n",
    "# Push to SQL table (replace 'your_table' with the desired table name)\n",
    "df.to_sql('game', con=engine, if_exists='replace', index=False)\n",
    "\n",
    "with engine.connect() as con:\n",
    "    con.execute(text('ALTER TABLE `game` ADD PRIMARY KEY (`steam_id`);'))"
   ]
  },
  {
   "cell_type": "markdown",
   "metadata": {},
   "source": [
    "**link table: score**"
   ]
  },
  {
   "cell_type": "code",
   "execution_count": null,
   "metadata": {},
   "outputs": [],
   "source": [
    "# Load your CSV\n",
    "df = pd.read_csv('table_score.csv')\n",
    "\n",
    "# Optional: preprocess or adjust column names if needed\n",
    "# df.columns = [col.lower() for col in df.columns]  # standardize column names\n",
    "\n",
    "df['lowest_price_date'] = pd.to_datetime(df['lowest_price_date'], errors='coerce', format='%Y-%m-%d %H:%M:%S%z', utc=True).dt.date\n",
    "df['last_deal_date'] = pd.to_datetime(df['last_deal_date'], errors='coerce', format='%Y-%m-%d %H:%M:%S%z', utc=True).dt.date\n",
    "\n",
    "# Push to SQL table (replace 'your_table' with the desired table name)\n",
    "df.to_sql('score', con=engine, if_exists='replace', index=False)\n",
    "    \n",
    "# Add foreign key constraint\n",
    "with engine.connect() as con:\n",
    "    con.execute(text(f\"\"\"\n",
    "        ALTER TABLE score\n",
    "        ADD CONSTRAINT fk_score_steam_id\n",
    "        FOREIGN KEY (steam_id) REFERENCES game(steam_id)\n",
    "        ON DELETE CASCADE\n",
    "        ON UPDATE CASCADE;\n",
    "    \"\"\"))"
   ]
  },
  {
   "cell_type": "markdown",
   "metadata": {},
   "source": [
    "**link table: price_log**"
   ]
  },
  {
   "cell_type": "code",
   "execution_count": null,
   "metadata": {},
   "outputs": [],
   "source": [
    "# Load your CSV\n",
    "df = pd.read_csv('table_price_log.csv')\n",
    "\n",
    "df['date'] = pd.to_datetime(df['date'], errors='coerce', format='%Y-%m-%d %H:%M:%S%z', utc=True).dt.date\n",
    "\n",
    "chunk_size = 50000\n",
    "# Split DataFrame and insert into DB\n",
    "for idx, start in enumerate(range(0, len(df), chunk_size)):\n",
    "    chunk = df.iloc[start:start+chunk_size]\n",
    "    if idx == 0:\n",
    "        chunk.to_sql('price_log', con=engine, if_exists='replace', index=False)\n",
    "        print(f\"Inserted initial chunk {idx} with replace.\")\n",
    "    else:\n",
    "        chunk.to_sql('price_log', con=engine, if_exists='append', index=False)\n",
    "        print(f\"Inserted chunk {idx} with append.\")\n",
    "\n",
    "with engine.connect() as con:\n",
    "    con.execute(text(\"\"\"\n",
    "        ALTER TABLE price_log\n",
    "        ADD CONSTRAINT fk_price_log_steam_id\n",
    "        FOREIGN KEY (steam_id) REFERENCES game(steam_id)\n",
    "        ON DELETE CASCADE\n",
    "        ON UPDATE CASCADE;\n",
    "    \"\"\"))"
   ]
  },
  {
   "cell_type": "code",
   "execution_count": null,
   "metadata": {},
   "outputs": [],
   "source": [
    "years = range(2015, 2026)\n",
    "\n",
    "for year in years:\n",
    "    csv_file = f\"table_price_log_{year}.csv\"\n",
    "    table_name = f\"price_log_{year}\"\n",
    "    \n",
    "    print(f\"Processing {csv_file} into table {table_name}...\")\n",
    "    \n",
    "    # Load CSV\n",
    "    df = pd.read_csv(csv_file)\n",
    "\n",
    "    df['date'] = pd.to_datetime(df['date'], errors='coerce', format='%Y-%m-%d %H:%M:%S%z', utc=True).dt.date\n",
    "    \n",
    "    # Insert into table (replace to create new table)\n",
    "    df.to_sql(table_name, con=engine, if_exists='replace', index=False)\n",
    "    \n",
    "    # Add foreign key constraint\n",
    "    with engine.connect() as con:\n",
    "        con.execute(text(f\"\"\"\n",
    "            ALTER TABLE {table_name}\n",
    "            ADD CONSTRAINT fk_{table_name}_steam_id\n",
    "            FOREIGN KEY (steam_id) REFERENCES game(steam_id)\n",
    "            ON DELETE CASCADE\n",
    "            ON UPDATE CASCADE;\n",
    "        \"\"\"))\n",
    "    \n",
    "    print(f\"Finished processing {year}\")"
   ]
  },
  {
   "cell_type": "markdown",
   "metadata": {},
   "source": [
    "**link table: game_category**"
   ]
  },
  {
   "cell_type": "code",
   "execution_count": null,
   "metadata": {},
   "outputs": [],
   "source": [
    "# Load your CSV\n",
    "df = pd.read_csv('link_game_category.csv')\n",
    "\n",
    "# Optional: preprocess or adjust column names if needed\n",
    "# df.columns = [col.lower() for col in df.columns]  # standardize column names\n",
    "\n",
    "# Push to SQL table (replace 'your_table' with the desired table name)\n",
    "df.to_sql('game_category', con=engine, if_exists='replace', index=False)\n",
    "\n",
    "with engine.connect() as con:\n",
    "    con.execute(text(\"\"\"\n",
    "        ALTER TABLE game_category\n",
    "        ADD CONSTRAINT fk_game_category_steam_id\n",
    "        FOREIGN KEY (steam_id) REFERENCES game(steam_id)\n",
    "        ON DELETE CASCADE\n",
    "        ON UPDATE CASCADE;\n",
    "    \"\"\"))\n",
    "    con.execute(text(\"\"\"\n",
    "        ALTER TABLE game_category\n",
    "        ADD CONSTRAINT fk_game_category_category_id\n",
    "        FOREIGN KEY (category_id) REFERENCES category(category_id)\n",
    "        ON DELETE CASCADE\n",
    "        ON UPDATE CASCADE;\n",
    "    \"\"\"))"
   ]
  },
  {
   "cell_type": "markdown",
   "metadata": {},
   "source": [
    "**link table: game_genre**"
   ]
  },
  {
   "cell_type": "code",
   "execution_count": null,
   "metadata": {},
   "outputs": [],
   "source": [
    "# Load your CSV\n",
    "df = pd.read_csv('link_game_genre.csv')\n",
    "\n",
    "# Optional: preprocess or adjust column names if needed\n",
    "# df.columns = [col.lower() for col in df.columns]  # standardize column names\n",
    "\n",
    "# Push to SQL table (replace 'your_table' with the desired table name)\n",
    "df.to_sql('game_genre', con=engine, if_exists='replace', index=False)\n",
    "\n",
    "with engine.connect() as con:\n",
    "    con.execute(text(\"\"\"\n",
    "        ALTER TABLE game_genre\n",
    "        ADD CONSTRAINT fk_game_genre_steam_id\n",
    "        FOREIGN KEY (steam_id) REFERENCES game(steam_id)\n",
    "        ON DELETE CASCADE\n",
    "        ON UPDATE CASCADE;\n",
    "    \"\"\"))\n",
    "    con.execute(text(\"\"\"\n",
    "        ALTER TABLE game_genre\n",
    "        ADD CONSTRAINT fk_game_genre_genre_id\n",
    "        FOREIGN KEY (genre_id) REFERENCES genre(genre_id)\n",
    "        ON DELETE CASCADE\n",
    "        ON UPDATE CASCADE;\n",
    "    \"\"\"))"
   ]
  },
  {
   "cell_type": "markdown",
   "metadata": {},
   "source": [
    "**link table: game_publisher**"
   ]
  },
  {
   "cell_type": "code",
   "execution_count": null,
   "metadata": {},
   "outputs": [],
   "source": [
    "# Load your CSV\n",
    "df = pd.read_csv('link_game_publisher.csv')\n",
    "\n",
    "# Optional: preprocess or adjust column names if needed\n",
    "# df.columns = [col.lower() for col in df.columns]  # standardize column names\n",
    "\n",
    "# Push to SQL table (replace 'your_table' with the desired table name)\n",
    "df.to_sql('game_publisher', con=engine, if_exists='replace', index=False)\n",
    "\n",
    "with engine.connect() as con:\n",
    "    con.execute(text(\"\"\"\n",
    "        ALTER TABLE game_publisher\n",
    "        ADD CONSTRAINT fk_game_publisher_steam_id\n",
    "        FOREIGN KEY (steam_id) REFERENCES game(steam_id)\n",
    "        ON DELETE CASCADE\n",
    "        ON UPDATE CASCADE;\n",
    "    \"\"\"))\n",
    "    con.execute(text(\"\"\"\n",
    "        ALTER TABLE game_publisher\n",
    "        ADD CONSTRAINT fk_game_publisher_publisher_id\n",
    "        FOREIGN KEY (publisher_id) REFERENCES publisher(publisher_id)\n",
    "        ON DELETE CASCADE\n",
    "        ON UPDATE CASCADE;\n",
    "    \"\"\"))"
   ]
  },
  {
   "cell_type": "markdown",
   "metadata": {},
   "source": [
    "**link table: game_developer**"
   ]
  },
  {
   "cell_type": "code",
   "execution_count": null,
   "metadata": {},
   "outputs": [],
   "source": [
    "# Load your CSV\n",
    "df = pd.read_csv('link_game_developer.csv')\n",
    "\n",
    "# Optional: preprocess or adjust column names if needed\n",
    "# df.columns = [col.lower() for col in df.columns]  # standardize column names\n",
    "\n",
    "# Push to SQL table (replace 'your_table' with the desired table name)\n",
    "df.to_sql('game_developer', con=engine, if_exists='replace', index=False)\n",
    "\n",
    "with engine.connect() as con:\n",
    "    con.execute(text(\"\"\"\n",
    "        ALTER TABLE game_developer\n",
    "        ADD CONSTRAINT fk_game_developer_steam_id\n",
    "        FOREIGN KEY (steam_id) REFERENCES game(steam_id)\n",
    "        ON DELETE CASCADE\n",
    "        ON UPDATE CASCADE;\n",
    "    \"\"\"))\n",
    "    con.execute(text(\"\"\"\n",
    "        ALTER TABLE game_developer\n",
    "        ADD CONSTRAINT fk_game_developer_developer_id\n",
    "        FOREIGN KEY (developer_id) REFERENCES developer(developer_id)\n",
    "        ON DELETE CASCADE\n",
    "        ON UPDATE CASCADE;\n",
    "    \"\"\"))"
   ]
  },
  {
   "cell_type": "markdown",
   "metadata": {},
   "source": [
    "**table: game**"
   ]
  },
  {
   "cell_type": "code",
   "execution_count": null,
   "metadata": {},
   "outputs": [],
   "source": [
    "# Load your CSV\n",
    "df = pd.read_csv('table_platform.csv')\n",
    "\n",
    "# Optional: preprocess or adjust column names if needed\n",
    "# df.columns = [col.lower() for col in df.columns]  # standardize column names\n",
    "\n",
    "# Push to SQL table (replace 'your_table' with the desired table name)\n",
    "df.to_sql('platform', con=engine, if_exists='replace', index=False)\n",
    "\n",
    "with engine.connect() as con:\n",
    "    con.execute(text('ALTER TABLE `platform` ADD PRIMARY KEY (`platform_id`);'))"
   ]
  },
  {
   "cell_type": "markdown",
   "metadata": {},
   "source": [
    "**link table: game_developer**"
   ]
  },
  {
   "cell_type": "code",
   "execution_count": null,
   "metadata": {},
   "outputs": [],
   "source": [
    "# Load your CSV\n",
    "df = pd.read_csv('link_game_platform.csv')\n",
    "\n",
    "# Optional: preprocess or adjust column names if needed\n",
    "# df.columns = [col.lower() for col in df.columns]  # standardize column names\n",
    "\n",
    "# Push to SQL table (replace 'your_table' with the desired table name)\n",
    "df.to_sql('game_platform', con=engine, if_exists='replace', index=False)\n",
    "\n",
    "with engine.connect() as con:\n",
    "    con.execute(text(\"\"\"\n",
    "        ALTER TABLE game_platform\n",
    "        ADD CONSTRAINT fk_game_platform_steam_id\n",
    "        FOREIGN KEY (steam_id) REFERENCES game(steam_id)\n",
    "        ON DELETE CASCADE\n",
    "        ON UPDATE CASCADE;\n",
    "    \"\"\"))\n",
    "    con.execute(text(\"\"\"\n",
    "        ALTER TABLE game_platform\n",
    "        ADD CONSTRAINT fk_game_platform_platform_id\n",
    "        FOREIGN KEY (platform_id) REFERENCES platform(platform_id)\n",
    "        ON DELETE CASCADE\n",
    "        ON UPDATE CASCADE;\n",
    "    \"\"\"))"
   ]
  }
 ],
 "metadata": {
  "kernelspec": {
   "display_name": "steam_env",
   "language": "python",
   "name": "python3"
  },
  "language_info": {
   "codemirror_mode": {
    "name": "ipython",
    "version": 3
   },
   "file_extension": ".py",
   "mimetype": "text/x-python",
   "name": "python",
   "nbconvert_exporter": "python",
   "pygments_lexer": "ipython3",
   "version": "3.13.3"
  }
 },
 "nbformat": 4,
 "nbformat_minor": 2
}
