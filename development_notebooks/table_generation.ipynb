{
 "cells": [
  {
   "cell_type": "markdown",
   "metadata": {},
   "source": [
    "### Data Collections Complete, Now Transitioning to Processing Data into Tables"
   ]
  },
  {
   "cell_type": "markdown",
   "metadata": {},
   "source": [
    "#### Creating category & genre id and name reference table"
   ]
  },
  {
   "cell_type": "code",
   "execution_count": null,
   "metadata": {},
   "outputs": [],
   "source": [
    "import pandas as pd\n",
    "import ast\n",
    "\n",
    "def extract_id_name_table(df, column_name, id_col, name_col):\n",
    "    \"\"\"\n",
    "    column_name: name of the column to parse\n",
    "    id_col: name of the output ID column\n",
    "    name_col: name of the output name column\n",
    "    \"\"\"\n",
    "    parsed_col = column_name + '_parsed'\n",
    "    temp_df = df[[column_name]].copy()\n",
    "    temp_df[parsed_col] = temp_df[column_name].apply(lambda x: ast.literal_eval(x) if isinstance(x, str) else x)\n",
    "    \n",
    "    id_name_set = set()\n",
    "    for row in temp_df[parsed_col]:\n",
    "        if isinstance(row, list): # handle for rows with NA\n",
    "            for item in row:\n",
    "                id_name_set.add((item['id'], item['description']))\n",
    "    \n",
    "    id_name_table = pd.DataFrame(list(id_name_set), columns=[id_col, name_col])\n",
    "    id_name_table[id_col] = id_name_table[id_col].astype(int)\n",
    "    id_name_table = id_name_table.sort_values(by=id_col).reset_index(drop=True)\n",
    "    \n",
    "    return id_name_table"
   ]
  },
  {
   "cell_type": "code",
   "execution_count": null,
   "metadata": {},
   "outputs": [],
   "source": [
    "df = pd.read_csv(\"steam_top_games_with_price_logs_and_game_info.csv\")\n",
    "cat_table = extract_id_name_table(df, 'categories', 'category_id', 'category_name')\n",
    "genre_table = extract_id_name_table(df, 'genres', 'genre_id', 'genre_name')\n",
    "\n",
    "cat_table.to_csv(\"table_category.csv\", index=False)\n",
    "genre_table.to_csv(\"table_genre.csv\", index=False)"
   ]
  },
  {
   "cell_type": "code",
   "execution_count": null,
   "metadata": {},
   "outputs": [],
   "source": [
    "cat_table"
   ]
  },
  {
   "cell_type": "markdown",
   "metadata": {},
   "source": [
    "#### Cleaning price log column into seperate table"
   ]
  },
  {
   "cell_type": "code",
   "execution_count": null,
   "metadata": {},
   "outputs": [],
   "source": [
    "df = pd.read_csv(\"steam_top_games_with_price_logs_and_game_info.csv\")\n",
    "df2 = df[['steam_id', 'price_logs']].copy()\n",
    "df2.head()"
   ]
  },
  {
   "cell_type": "code",
   "execution_count": null,
   "metadata": {},
   "outputs": [],
   "source": [
    "import ast\n",
    "import pandas as pd\n",
    "\n",
    "all_logs = []\n",
    "\n",
    "for _, row in df2.iterrows():\n",
    "    game_id = row.steam_id\n",
    "    try:\n",
    "        price_logs = ast.literal_eval(row.price_logs)\n",
    "        all_logs.extend([\n",
    "            {'steam_id': game_id, 'date': log['timestamp'], 'price': log['deal']['price']['amount'], 'cut_pct': log['deal']['cut'], 'regular': log['deal']['regular']['amount']}\n",
    "            for log in price_logs\n",
    "        ])\n",
    "    except Exception as e:\n",
    "        print(f\"Error processing row with steam_id={game_id}: {e}\")\n",
    "\n",
    "\n",
    "price_history_df = pd.DataFrame(all_logs)\n",
    "# change column type. note: contains mixed time zone\n",
    "price_history_df['date'] = pd.to_datetime(price_history_df['date'], utc=True)\n",
    "\n",
    "price_history_df['date_only'] = price_history_df['date'].dt.date  # for comparing by calendar day\n",
    "\n",
    "# Remove 0-price entries only when duplicate date with non-zero price exists\n",
    "# Count entries with same steam_id and date_only\n",
    "duplicate_groups = price_history_df.groupby(['steam_id', 'date_only']).size().reset_index(name='count')\n",
    "duplicate_dates = duplicate_groups[duplicate_groups['count'] > 1][['steam_id', 'date_only']]\n",
    "price_history_df = price_history_df.merge(duplicate_dates, on=['steam_id', 'date_only'], how='left', indicator=True)\n",
    "\n",
    "# Remove rows with price == 0 AND duplicate date\n",
    "price_history_df = price_history_df[~((price_history_df['price'] == 0) & (price_history_df['_merge'] == 'both'))]\n",
    "price_history_df.drop(columns=['_merge'], inplace=True)\n",
    "\n",
    "# Remove all identical rows\n",
    "price_history_df = price_history_df.drop_duplicates(subset=['steam_id', 'date_only', 'price', 'cut_pct','regular'], keep='first')\n",
    "price_history_df.drop(columns=['date_only'], inplace=True)\n",
    "\n",
    "# clean duplicate entry with no price change. (take the record with smallest date for duplicate entries)\n",
    "price_history_df = price_history_df.sort_values(by=['steam_id', 'date'], ascending=[True, True])\n",
    "\n",
    "price_history_df_clean = (\n",
    "    price_history_df\n",
    "    .groupby('steam_id', group_keys=False)[['steam_id', 'date', 'price', 'cut_pct','regular']]\n",
    "    .apply(lambda group: group.loc[\n",
    "        (group[['price', 'cut_pct', 'regular']].shift() != group[['price', 'cut_pct', 'regular']]).any(axis=1)\n",
    "    ])\n",
    ")\n",
    "\n",
    "price_history_df_clean.to_csv(\"table_price_log.csv\", index=False)\n",
    "price_history_df_clean"
   ]
  },
  {
   "cell_type": "code",
   "execution_count": null,
   "metadata": {},
   "outputs": [],
   "source": [
    "# Load the CSV\n",
    "df = pd.read_csv('table_price_log.csv')\n",
    "\n",
    "# Ensure the 'date' column is in datetime format\n",
    "df['date'] = pd.to_datetime(df['date'], errors='coerce')\n",
    "\n",
    "# Define the years to process\n",
    "years = range(2015, 2026)\n",
    "\n",
    "for year in years:\n",
    "    start_date = pd.to_datetime(f\"{year}-01-01\", utc=True)\n",
    "    end_date = pd.to_datetime(f\"{year + 1}-01-01\", utc=True)\n",
    "    \n",
    "    filtered_df = df[(df['date'] >= start_date) & (df['date'] < end_date)]\n",
    "    filename = f\"table_price_log_{year}.csv\"\n",
    "    \n",
    "    filtered_df.to_csv(filename, index=False)\n",
    "    \n",
    "    print(f\"{len(filtered_df)} rows for {year}. New file: {filename}\")\n"
   ]
  },
  {
   "cell_type": "markdown",
   "metadata": {},
   "source": [
    "### Create link table between category/genre versus game"
   ]
  },
  {
   "cell_type": "code",
   "execution_count": null,
   "metadata": {},
   "outputs": [],
   "source": [
    "import pandas as pd\n",
    "import ast\n",
    "\n",
    "# Load your big DataFrame\n",
    "df = pd.read_csv(\"steam_top_games_with_price_logs_and_game_info.csv\")[['steam_id', 'categories', 'genres']]\n",
    "\n",
    "# Helper: Convert string to list of dicts\n",
    "def parse_list_of_dicts(x):\n",
    "    try:\n",
    "        return ast.literal_eval(x) if isinstance(x, str) else x\n",
    "    except:\n",
    "        return []\n",
    "\n",
    "# Parse categories and genres\n",
    "df['categories'] = df['categories'].apply(parse_list_of_dicts)\n",
    "df['genres'] = df['genres'].apply(parse_list_of_dicts)\n",
    "\n",
    "# Build category-game link table\n",
    "category_links = []\n",
    "for _, row in df.iterrows():\n",
    "    steam_id = row['steam_id']\n",
    "    if isinstance(row['categories'], list):  # Check if valid list\n",
    "        for cat in row['categories']:\n",
    "            cat_id = int(cat['id']) if 'id' in cat else None\n",
    "            if cat_id is not None:\n",
    "                category_links.append({'steam_id': steam_id, 'category_id': cat_id})\n",
    "\n",
    "category_link_df = pd.DataFrame(category_links).sort_values(by=['steam_id']).reset_index(drop=True)\n",
    "\n",
    "# Build genre-game link table\n",
    "genre_links = []\n",
    "for _, row in df.iterrows():\n",
    "    steam_id = row['steam_id']\n",
    "    if isinstance(row['genres'], list):  # Check if valid list\n",
    "        for genre in row['genres']:\n",
    "            genre_id = int(genre['id']) if 'id' in genre else None\n",
    "            if genre_id is not None:\n",
    "                genre_links.append({'steam_id': steam_id, 'genre_id': genre_id})\n",
    "\n",
    "genre_link_df = pd.DataFrame(genre_links).sort_values(by=['steam_id']).reset_index(drop=True)\n",
    "\n",
    "# Save or print\n",
    "print(\"Category-Game Link Table:\\n\", category_link_df.head())\n",
    "print(\"\\nGenre-Game Link Table:\\n\", genre_link_df.head())\n",
    "\n",
    "category_link_df.to_csv(\"link_game_category.csv\", index=False)\n",
    "genre_link_df.to_csv(\"link_game_genre.csv\", index=False)"
   ]
  },
  {
   "cell_type": "markdown",
   "metadata": {},
   "source": [
    "#### Creating publisher & developer id and name reference table"
   ]
  },
  {
   "cell_type": "code",
   "execution_count": null,
   "metadata": {},
   "outputs": [],
   "source": [
    "import pandas as pd\n",
    "import ast  # for safely evaluating string lists\n",
    "\n",
    "# Load your DataFrame\n",
    "df = pd.read_csv(\"steam_top_games_with_price_logs_and_game_info.csv\")[['publishers', 'developers']]\n",
    "\n",
    "# Initialize sets to collect unique publishers and developers\n",
    "all_publishers = set()\n",
    "all_developers = set()\n",
    "\n",
    "# Step 1: Flatten all publisher names\n",
    "for pub_str in df['publishers']:\n",
    "    try:\n",
    "        pub_list = ast.literal_eval(pub_str) if isinstance(pub_str, str) else pub_str\n",
    "        if isinstance(pub_list, list):\n",
    "            all_publishers.update(pub_list)\n",
    "    except Exception as e:\n",
    "        print(f\"Skipping a problematic publisher entry: {e}\")\n",
    "\n",
    "# Step 2: Flatten all developer names\n",
    "for dev_str in df['developers']:\n",
    "    try:\n",
    "        dev_list = ast.literal_eval(dev_str) if isinstance(dev_str, str) else dev_str\n",
    "        if isinstance(dev_list, list):\n",
    "            all_developers.update(dev_list)\n",
    "    except Exception as e:\n",
    "        print(f\"Skipping a problematic developer entry: {e}\")\n",
    "\n",
    "# Step 3: Create publisher_id table\n",
    "publisher_table = pd.DataFrame({\n",
    "    'publisher_id': range(1, len(all_publishers)+1),\n",
    "    'publisher_name': list(all_publishers)\n",
    "})\n",
    "\n",
    "# Step 4: Create developer_id table\n",
    "developer_table = pd.DataFrame({\n",
    "    'developer_id': range(1, len(all_developers)+1),\n",
    "    'developer_name': list(all_developers)\n",
    "})\n",
    "\n",
    "# Optional: Sort for easier reading\n",
    "publisher_table = publisher_table.sort_values('publisher_id').reset_index(drop=True)\n",
    "developer_table = developer_table.sort_values('developer_id').reset_index(drop=True)\n",
    "\n",
    "# Print or save\n",
    "print(\"Publisher Table:\\n\", publisher_table)\n",
    "print(\"\\nDeveloper Table:\\n\", developer_table)\n",
    "\n",
    "# Save as CSV\n",
    "publisher_table.to_csv(\"table_publisher.csv\", index=False)\n",
    "developer_table.to_csv(\"table_developer.csv\", index=False)"
   ]
  },
  {
   "cell_type": "markdown",
   "metadata": {},
   "source": [
    "### Create link table between publisher/developer versus game"
   ]
  },
  {
   "cell_type": "code",
   "execution_count": null,
   "metadata": {},
   "outputs": [],
   "source": [
    "import pandas as pd\n",
    "import ast\n",
    "\n",
    "# Load your main DataFrame\n",
    "df = pd.read_csv(\"steam_top_games_with_price_logs_and_game_info.csv\")\n",
    "\n",
    "# Load reference tables\n",
    "publisher_ref = pd.read_csv(\"table_publisher.csv\")\n",
    "developer_ref = pd.read_csv(\"table_developer.csv\")\n",
    "\n",
    "# Helper: Convert string lists to actual lists\n",
    "def safe_parse_list(x):\n",
    "    try:\n",
    "        return ast.literal_eval(x) if isinstance(x, str) else x\n",
    "    except:\n",
    "        return []\n",
    "\n",
    "# Parse publisher and developer columns\n",
    "df['publishers'] = df['publishers'].apply(safe_parse_list)\n",
    "df['developers'] = df['developers'].apply(safe_parse_list)\n",
    "\n",
    "# Step 1: Build publisher-game link table\n",
    "publisher_links = []\n",
    "for _, row in df.iterrows():\n",
    "    steam_id = row['steam_id']\n",
    "    for pub in row['publishers']:\n",
    "        pub_id = publisher_ref.loc[publisher_ref['publisher_name'] == pub, 'publisher_id']\n",
    "        if not pub_id.empty:\n",
    "            publisher_links.append({'steam_id': steam_id, 'publisher_id': pub_id.values[0]})\n",
    "\n",
    "publisher_link_df = pd.DataFrame(publisher_links)\n",
    "\n",
    "# Step 2: Build developer-game link table\n",
    "developer_links = []\n",
    "for _, row in df.iterrows():\n",
    "    steam_id = row['steam_id']\n",
    "    for dev in row['developers']:\n",
    "        dev_id = developer_ref.loc[developer_ref['developer_name'] == dev, 'developer_id']\n",
    "        if not dev_id.empty:\n",
    "            developer_links.append({'steam_id': steam_id, 'developer_id': dev_id.values[0]})\n",
    "\n",
    "developer_link_df = pd.DataFrame(developer_links)\n",
    "\n",
    "# Sort by steam_id before saving\n",
    "publisher_link_df = publisher_link_df.sort_values(by=['steam_id']).reset_index(drop=True)\n",
    "developer_link_df = developer_link_df.sort_values(by=['steam_id']).reset_index(drop=True)\n",
    "\n",
    "# Save or preview\n",
    "print(\"Publisher-Game Link Table:\\n\", publisher_link_df.head())\n",
    "print(\"\\nDeveloper-Game Link Table:\\n\", developer_link_df.head())\n",
    "\n",
    "# Save as CSV\n",
    "publisher_link_df.to_csv(\"link_game_publisher.csv\", index=False)\n",
    "developer_link_df.to_csv(\"link_game_developer.csv\", index=False)"
   ]
  },
  {
   "cell_type": "markdown",
   "metadata": {},
   "source": [
    "#### Creating platform id and name reference table"
   ]
  },
  {
   "cell_type": "code",
   "execution_count": null,
   "metadata": {},
   "outputs": [],
   "source": [
    "platform = pd.DataFrame({\n",
    "    'platform_id': [1, 2, 3],\n",
    "    'platform_name': ['Windows', 'Mac', 'Linux']\n",
    "})\n",
    "\n",
    "platform.to_csv(\"table_platform.csv\", index=False)"
   ]
  },
  {
   "cell_type": "markdown",
   "metadata": {},
   "source": [
    "### Create link table between platform versus game"
   ]
  },
  {
   "cell_type": "code",
   "execution_count": null,
   "metadata": {},
   "outputs": [],
   "source": [
    "# Read your CSV\n",
    "df = pd.read_csv('steam_top_games_with_price_logs_and_game_info.csv')  # columns: steam_id, is_windows, is_mac, is_linux\n",
    "\n",
    "# Melt to long format\n",
    "melted = df.melt(id_vars='steam_id', \n",
    "                 value_vars=['is_windows', 'is_mac', 'is_linux'],\n",
    "                 var_name='platform_name_raw',\n",
    "                 value_name='has_platform')\n",
    "\n",
    "# Keep only rows where value is 1 (has platform)\n",
    "melted = melted[melted['has_platform'] == 1]\n",
    "\n",
    "# Map to platform_id\n",
    "platform_map = {\n",
    "    'is_windows': 1,\n",
    "    'is_mac': 2,\n",
    "    'is_linux': 3\n",
    "}\n",
    "melted['platform_id'] = melted['platform_name_raw'].map(platform_map)\n",
    "\n",
    "# Final game_platform table\n",
    "game_platform_df = melted[['steam_id', 'platform_id']]\n",
    "game_platform_df.to_csv(\"link_game_platform.csv\", index=False)"
   ]
  },
  {
   "cell_type": "markdown",
   "metadata": {},
   "source": [
    "### Create game table"
   ]
  },
  {
   "cell_type": "code",
   "execution_count": null,
   "metadata": {},
   "outputs": [],
   "source": [
    "# Load full DataFrame\n",
    "df = pd.read_csv(\"steam_top_games_with_price_logs_and_game_info.csv\")\n",
    "\n",
    "# Keep only the specified columns\n",
    "columns_to_keep = ['steam_id','itad_id','game','link','release_dates','header_image']\n",
    "\n",
    "filtered_df = df[columns_to_keep]\n",
    "\n",
    "# Optionally print or save\n",
    "print(filtered_df.head())\n",
    "filtered_df.to_csv(\"table_game.csv\", index=False)"
   ]
  }
 ],
 "metadata": {
  "kernelspec": {
   "display_name": "steam_env",
   "language": "python",
   "name": "python3"
  },
  "language_info": {
   "codemirror_mode": {
    "name": "ipython",
    "version": 3
   },
   "file_extension": ".py",
   "mimetype": "text/x-python",
   "name": "python",
   "nbconvert_exporter": "python",
   "pygments_lexer": "ipython3",
   "version": "3.13.3"
  }
 },
 "nbformat": 4,
 "nbformat_minor": 2
}
